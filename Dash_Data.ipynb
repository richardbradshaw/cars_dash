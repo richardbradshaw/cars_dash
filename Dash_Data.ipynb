{
 "cells": [
  {
   "cell_type": "code",
   "execution_count": 1,
   "id": "3a7aaaf8-f3ea-4661-bce6-2e9b0026035b",
   "metadata": {},
   "outputs": [],
   "source": [
    "import pandas as pd\n",
    "import numpy as np\n",
    "import requests\n",
    "from datetime import datetime, timedelta"
   ]
  },
  {
   "cell_type": "markdown",
   "id": "86089d60-1d5d-4695-b7b0-83ae6ee99991",
   "metadata": {},
   "source": [
    "## Petroleum prices"
   ]
  },
  {
   "cell_type": "code",
   "execution_count": 2,
   "id": "e833fea6-26a8-4b66-ab3e-23c29b619a8a",
   "metadata": {},
   "outputs": [],
   "source": [
    "# read old petrol prices csv\n",
    "petrol_prices = pd.read_csv('petrol_prices.csv', index_col=0, parse_dates=['period'])\n",
    "\n",
    "# Find the starting date to get new data from the EIA API\n",
    "latest_date = petrol_prices['period'].max()\n",
    "next_day = latest_date + timedelta(days=1)\n",
    "start_date = next_day.strftime('%Y-%m-%d')\n",
    "# find the end date\n",
    "today = datetime.now()\n",
    "end_date = today.strftime('%Y-%m-%d')"
   ]
  },
  {
   "cell_type": "code",
   "execution_count": 3,
   "id": "53cecef2-5aec-4454-a564-0135fed5794d",
   "metadata": {},
   "outputs": [],
   "source": [
    "# retrieve new data from the EIA API\n",
    "url = f'https://api.eia.gov/v2/petroleum/pri/gnd/data/?api_key=qUwQdIbWCPzMsfeM8l9KgoATXxByk81sf3IfmugR&frequency=weekly&data[0]=value&facets[product][]=EPD2D&facets[product][]=EPMMU&facets[product][]=EPMPU&facets[product][]=EPMRU&facets[duoarea][]=NUS&facets[duoarea][]=R10&facets[duoarea][]=R1X&facets[duoarea][]=R1Y&facets[duoarea][]=R1Z&facets[duoarea][]=R20&facets[duoarea][]=R30&facets[duoarea][]=R40&facets[duoarea][]=R50&facets[duoarea][]=R5XCA&facets[duoarea][]=SCA&facets[duoarea][]=SCO&facets[duoarea][]=SFL&facets[duoarea][]=SFL&facets[duoarea][]=SMN&facets[duoarea][]=SNY&facets[duoarea][]=SOH&facets[duoarea][]=STX&facets[duoarea][]=SWA&start={start_date}&end={end_date}&sort[0][column]=period&sort[0][direction]=desc'\n",
    "r = requests.get(url)\n",
    "json_data1 = r.json()\n",
    "temp = pd.DataFrame(json_data1['response']['data'])"
   ]
  },
  {
   "cell_type": "code",
   "execution_count": 4,
   "id": "7ed69264-cdb7-43d8-97c8-5ede5c592065",
   "metadata": {},
   "outputs": [],
   "source": [
    "# concatenate new data to old data\n",
    "petrol_prices = pd.concat([petrol_prices, temp])\n",
    "# save data\n",
    "\n",
    "petrol_prices.to_csv('petrol_prices.csv')"
   ]
  },
  {
   "cell_type": "markdown",
   "id": "bc1411a2-f6df-4d79-9a89-6313703e5866",
   "metadata": {},
   "source": [
    "## Electricity prices"
   ]
  },
  {
   "cell_type": "code",
   "execution_count": 926,
   "id": "565ed388-348e-4b77-acc4-76ac9443c7f7",
   "metadata": {},
   "outputs": [],
   "source": [
    "elec_url = 'https://www.eia.gov/electricity/data/eia861m/xls/sales_revenue.xlsx'\n",
    "\n",
    "# Get monthly residential electricity data\n",
    "electricity_prices = pd.read_excel(elec_url, sheet_name='Monthly-States', usecols='A:D, H', \n",
    "                            skiprows=2, skipfooter=1, parse_dates= {\"period\" : [\"Year\",\"Month\"]},)\n",
    "\n",
    "us_elec = pd.read_excel(elec_url, sheet_name='US-YTD', usecols='A:C, G', \n",
    "                            skiprows=2, skipfooter=1)#, parse_dates= {\"Date\" : [\"Year\",\"Month\"]},)\n",
    "\n",
    "\n",
    "# Price in Cents/kWh\n",
    "electricity_prices = electricity_prices.rename(columns={'Cents/kWh': 'price'})\n",
    "us_elec = us_elec.rename(columns={'Cents/kWh': 'price'})\n",
    "\n",
    "# Remove yearly average\n",
    "us_elec = us_elec[us_elec['MONTH'] != '.']\n",
    "\n",
    "# Change date information into Datetime\n",
    "us_elec['day'] = '1'\n",
    "us_elec['period'] = pd.to_datetime(us_elec[['Year', 'MONTH', 'day']])\n",
    "us_elec = us_elec.drop(['Year', 'MONTH', 'day'], axis=1)"
   ]
  },
  {
   "cell_type": "code",
   "execution_count": 943,
   "id": "7a8b832c-82fb-4782-bf9b-be7e7e0fdc90",
   "metadata": {},
   "outputs": [],
   "source": [
    "electricity_prices.to_csv('state_electricity.csv')\n",
    "us_elec.to_csv('us_electricity.csv')"
   ]
  },
  {
   "cell_type": "markdown",
   "id": "3909d0eb-9148-4584-9bd5-2a24127538a9",
   "metadata": {},
   "source": [
    "## Electricity generation CO2 emissions"
   ]
  },
  {
   "cell_type": "markdown",
   "id": "dc4feaf9-827f-4283-bc4a-1a78ff39a804",
   "metadata": {},
   "source": [
    "#### egrid data \n",
    "\n",
    "data found at: https://www.epa.gov/egrid/download-data new 2021 data will be available sometime in the 1st quarter of 2023"
   ]
  },
  {
   "cell_type": "code",
   "execution_count": 385,
   "id": "4fe29f89-bd22-42a7-bf94-720bea5c4339",
   "metadata": {},
   "outputs": [],
   "source": [
    "# Import state annual CO2 emissions in lb/MWh\n",
    "col = ['State abbreviation', 'State annual CO2 equivalent total output emission rate (lb/MWh)']\n",
    "state_co2 = pd.read_excel('egrid2020_data.xlsx', sheet_name='ST20', usecols=col)\n",
    "state_co2 = state_co2.drop(labels=0)\n",
    "state_co2 = state_co2.rename(columns={'State abbreviation': 'state', \n",
    "                              'State annual CO2 equivalent total output emission rate (lb/MWh)': \n",
    "                                      'co2_lb/MWh'})\n",
    "\n",
    "# Convert from lb/MWh to g/kWh\n",
    "state_co2['co2_g/kWh'] = state_co2['co2_lb/MWh'] / 1000 * 453.59"
   ]
  },
  {
   "cell_type": "code",
   "execution_count": 959,
   "id": "786e5356-a2d7-4482-bef6-1adb52e225b8",
   "metadata": {},
   "outputs": [],
   "source": [
    "# Import US annual CO2 emissions in lb/MWh\n",
    "col = ['U.S. annual CO2 equivalent total output emission rate (lb/MWh)']\n",
    "us_co2 = pd.read_excel('egrid2020_data.xlsx', sheet_name='US20', usecols=col)\n",
    "us_co2 = us_co2['U.S. annual CO2 equivalent total output emission rate (lb/MWh)'].iloc[1]\n",
    "\n",
    "# Convert from lb/MWh to g/kWh\n",
    "us_co2_g_kwh = us_co2 / 1000 * 435.59"
   ]
  },
  {
   "cell_type": "code",
   "execution_count": 963,
   "id": "2fa6ceb8-6733-4753-a071-878a5ae452ff",
   "metadata": {},
   "outputs": [],
   "source": [
    "# Make dataframe for us data and append to state data\n",
    "us_co2_all = pd.DataFrame({'state': 'US', 'co2_lb/MWh': us_co2, 'co2_g/kWh': us_co2_g_kwh, 'state_name': 'US'}, \n",
    "                         index=[53])\n",
    "state_co2 = state_co2.append(us_co2_all)\n",
    "\n",
    "# Save to csv file\n",
    "state_co2.to_csv('egrid_co2_all.csv')"
   ]
  },
  {
   "cell_type": "markdown",
   "id": "b3870945-a643-4ec6-96d3-49ab614e0c90",
   "metadata": {},
   "source": [
    "## Cars database"
   ]
  },
  {
   "cell_type": "code",
   "execution_count": null,
   "id": "f01b9baa-0a5d-4875-8db0-14a86e6cc7b0",
   "metadata": {},
   "outputs": [],
   "source": [
    "# Import vehicles database\n",
    "url_cars = 'https://www.fueleconomy.gov/feg/epadata/vehicles.csv'\n",
    "cars = pd.read_csv(url_cars, low_memory=False)\n",
    "\n",
    "# Save to csv file\n",
    "cars.to_csv('cars_database.csv')"
   ]
  }
 ],
 "metadata": {
  "kernelspec": {
   "display_name": "Python 3",
   "language": "python",
   "name": "python3"
  },
  "language_info": {
   "codemirror_mode": {
    "name": "ipython",
    "version": 3
   },
   "file_extension": ".py",
   "mimetype": "text/x-python",
   "name": "python",
   "nbconvert_exporter": "python",
   "pygments_lexer": "ipython3",
   "version": "3.8.8"
  }
 },
 "nbformat": 4,
 "nbformat_minor": 5
}
